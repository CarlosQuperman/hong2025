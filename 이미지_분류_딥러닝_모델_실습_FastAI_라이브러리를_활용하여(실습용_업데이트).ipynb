{
  "nbformat": 4,
  "nbformat_minor": 0,
  "metadata": {
    "colab": {
      "provenance": []
    },
    "kernelspec": {
      "name": "python3",
      "display_name": "Python 3"
    },
    "language_info": {
      "name": "python"
    },
    "accelerator": "GPU"
  },
  "cells": [
    {
      "cell_type": "code",
      "source": [
        "# 데이터 증강 설정 (전달)\n",
        "item_tfms = Resize(128, ResizeMethod.Squish)\n",
        "batch_tfms = aug_transforms(\n",
        "    do_flip=True,                # 이미지 좌우 반전\n",
        "    flip_vert=True,              # 이미지 상하 반전\n",
        "    max_rotate=30,               # 최대 30도까지 회전\n",
        "    max_zoom=1.1,                # 최대 1.1배까지 확대\n",
        "    max_lighting=0.2,            # 조명 변화\n",
        "    max_warp=0.2,                # 왜곡 변화\n",
        "    p_affine=0.75,               # 기하학적 변환 적용 확률\n",
        "    p_lighting=0.75              # 조명 변환 적용 확률\n",
        ")\n",
        "\n",
        "# 추가적인 증강 기법 적용\n",
        "batch_tfms += [RandomErasing(p=0.5, max_count=3)]  # 랜덤 지우기 기법 추가\n",
        "\n",
        "# 데이터셋 로더 생성\n",
        "typetools = DataBlock(\n",
        "    blocks=(ImageBlock, CategoryBlock),\n",
        "    get_items=get_image_files,\n",
        "    splitter=RandomSplitter(valid_pct=0.2, seed=42),\n",
        "    get_y=parent_label,\n",
        "    item_tfms=item_tfms,\n",
        "    batch_tfms=batch_tfms\n",
        ")\n",
        "\n",
        "dls = typetools.dataloaders(path)\n",
        "\n",
        "# 모델 학습\n",
        "learn = vision_learner(dls, resnet18, metrics=error_rate)\n",
        "learn.fine_tune(4)"
      ],
      "metadata": {
        "id": "DCS4BR7zMlmc"
      },
      "execution_count": null,
      "outputs": []
    },
    {
      "cell_type": "markdown",
      "source": [
        "### FastAi를 활용한 이미지분류\n",
        "\n",
        "- 이번 실습에서는 Python FastAi 라이브러리를 활용하여\n",
        "- Bing 검색 엔진에서 얻을 수 있는 이미지 주소를 통해\n",
        "- 이미지 분류 딥러닝 모델을 학습시킬 데이터를 수집하고\n",
        "- 이미지 분류 딥러닝 모델의 특성을 정의한 후\n",
        "- 데이터 증강을 통해 이미지를 변형해보고\n",
        "- 모델을 학습시킨 후 결과를 확인해본 후\n",
        "- 실제 모델의 성능을 확인하는 실습을 진행해보겠습니다!"
      ],
      "metadata": {
        "id": "1tcb3Gl-VEEL"
      }
    },
    {
      "cell_type": "code",
      "metadata": {
        "id": "QZvOS7bC1pmW"
      },
      "source": [
        "#fastai2 라이브러리 설치\n",
        "!pip install fastai2"
      ],
      "execution_count": null,
      "outputs": []
    },
    {
      "cell_type": "code",
      "source": [
        "#한글 폰트 처리를 위한 라이브러리 설치\n",
        "!pip install koreanize-matplotlib"
      ],
      "metadata": {
        "id": "aJK4yqUHAeGb"
      },
      "execution_count": null,
      "outputs": []
    },
    {
      "cell_type": "code",
      "metadata": {
        "id": "99PriZQR2SvH"
      },
      "source": [
        "#fastbook 라이브러리 설치 및 불러오기\n",
        "#실행이 안되면 다시 실행할 것~\n",
        "\n",
        "!pip install -Uqq fastbook"
      ],
      "execution_count": null,
      "outputs": []
    },
    {
      "cell_type": "code",
      "source": [
        "#코드가 드라이브에 접근할 수 있도록 허용해주는 코드\n",
        "from google.colab import drive\n",
        "drive.mount('/content/drive')"
      ],
      "metadata": {
        "id": "hRM258KMNJXm"
      },
      "execution_count": null,
      "outputs": []
    },
    {
      "cell_type": "code",
      "metadata": {
        "id": "0G0VvkK62bdk"
      },
      "source": [
        "# fastbook 라이브러리에서 모든 도구들을 가져온다\n",
        "# fastai.viwison.widgets에서 모든 도구들을 가져온다.\n",
        "# 한글 폰트 처리를 위한 도구를 가져온다.\n",
        "\n",
        "import fastbook\n",
        "from fastbook import *\n",
        "from fastai.vision.widgets import *\n",
        "import koreanize_matplotlib"
      ],
      "execution_count": 5,
      "outputs": []
    },
    {
      "cell_type": "markdown",
      "metadata": {
        "id": "Y1ZxtIRk24eQ"
      },
      "source": [
        "### 데이터 수집하기\n",
        "\n",
        "* 항상 AI 모델 학습을 위해서는 AI 학습을 위한 데이터가 필요하다.\n",
        "* MS의 검색엔진인 Bing을 이용하여\n",
        "* 이미지를 자동으로 수집하고 이를 여러분의 구글 드라이브에 저장하는 과정을 진행해보자!\n",
        "* 한글 키워드를 검색하여 다운도 가능하지만 추후 AI 모델 제작 과정에서 폰트가 깨지는 문제가 발생하기에.. 영어 키워드로 이미지를 수집해보자!\n",
        "* 우리가 AI 모델을 만들어 활용하는 이유는 많은 문제가 있을 때 이를 빠르고 정확하게 해결하기 위해서이다. 이를 기억하고 실제 현실에서 활용할 수 있을 법한 문제를 해결하는 이미지를 수집해보자. (예 : 다양한 옷 이미지가 있을 때 이를 상의, 하의, 겉옷으로 분류해주는 문제)"
      ]
    },
    {
      "cell_type": "code",
      "source": [
        "!pip install icrawler\n"
      ],
      "metadata": {
        "id": "5Qz4uvpvXuxn"
      },
      "execution_count": null,
      "outputs": []
    },
    {
      "cell_type": "code",
      "source": [
        "from icrawler.builtin import GoogleImageCrawler\n",
        "\n",
        "# 저장 폴더 지정\n",
        "google_crawler = GoogleImageCrawler(storage={'root_dir': 'images/연습'})\n",
        "# 'cats' 키워드로 최대 200개 이미지 크롤링 및 저장\n",
        "google_crawler.crawl(keyword='', max_num=10)\n"
      ],
      "metadata": {
        "id": "WWMRRavOXymD"
      },
      "execution_count": null,
      "outputs": []
    },
    {
      "cell_type": "code",
      "metadata": {
        "id": "tJ2bHvI57wKr"
      },
      "source": [
        "# 분류할 type을 key_types에 문자열로 저장한다.\n",
        "key_types = '','',''\n",
        "# 드라이브에 사진을 저장할 기본 폴더를 만든 후 이를 경로로 지정한다\n",
        "path = Path('/content/drive/MyDrive/홍천고 이미지 분류')\n",
        "# 만약 path에 저장된 경로가 없으면 경로를 만들어준다\n",
        "if not path.exists() :\n",
        "  path.mkdir()"
      ],
      "execution_count": 13,
      "outputs": []
    },
    {
      "cell_type": "code",
      "metadata": {
        "id": "z4ZrHvyJ8Pl1"
      },
      "source": [
        "#o라는 이름으로 key_type을 돌면서\n",
        "for o in key_types :\n",
        "  print(path, o) # 확인용\n",
        "  dest = (path/o) #각각의 키워드에 따라 사진을 저장할 폴더 경로\n",
        "  print(dest) # 확인용\n",
        "  dest.mkdir(exist_ok = True) #폴더가 없으면 폴더를 만들고\n",
        "  google_crawler = GoogleImageCrawler(storage={'root_dir': dest})\n",
        "  google_crawler.crawl(keyword=o, max_num=)\n"
      ],
      "execution_count": null,
      "outputs": []
    },
    {
      "cell_type": "code",
      "metadata": {
        "id": "WObZt0RQDNDw"
      },
      "source": [
        "#모든 사진파일 정보 확인\n",
        "fns = get_image_files(path)\n",
        "fns\n",
        "#왜 300개가 아닐까?"
      ],
      "execution_count": null,
      "outputs": []
    },
    {
      "cell_type": "code",
      "metadata": {
        "id": "oYKQcfDlDiPU"
      },
      "source": [
        "# 모든 사진파일의 경로가 들어있는 fns를 검증하여 실패한 사진의 경로만 따로 저장함\n",
        "failed = verify_images(fns)\n",
        "failed"
      ],
      "execution_count": null,
      "outputs": []
    },
    {
      "cell_type": "code",
      "metadata": {
        "id": "Pjz0cuahFDsU"
      },
      "source": [
        "# 다운에 실패한 이밎의 위치를 Path에서 제거함\n",
        "failed.map(Path.unlink)"
      ],
      "execution_count": null,
      "outputs": []
    },
    {
      "cell_type": "markdown",
      "metadata": {
        "id": "bKNWY8RDFP7c"
      },
      "source": [
        "### 데이터 전처리하기\n",
        "\n",
        "* 이제 우리는 AI 학습을 위한 사진 파일 데이터 수집을 완료했다.\n",
        "* 그런데 불러온 사진의 종류를 결정하는 데에는 이미지의 어떤 부분이 영향을 끼칠까?\n",
        "* 또 학습할 때 꼭 많은 양의 이미지만 필요할까?\n",
        "* 이미지의 다양한 특성을 모델이 학습할 수 있도록 이미지를 전처리할수는 없을까?"
      ]
    },
    {
      "cell_type": "code",
      "metadata": {
        "id": "pQuy8CxcFhao"
      },
      "source": [
        "typetools = DataBlock(blocks = (ImageBlock, CategoryBlock), #독립변수(데이터), 종속변수(데이터의 정답)\n",
        "                   get_items = get_image_files, #파일 경로 설정\n",
        "                   splitter = RandomSplitter(valid_pct =0.2  , seed = 42 ), #검증 파일 비율 20% 랜덤, seed값 난수 고정(42), 20%는 공부하는데 쓰이는게 아니라 테스트하는데 사용됨. -> 본인이 생각하고 수정해도 됨\n",
        "                   get_y = parent_label, #파일이 저장된 폴더명을 레이블로 사용\n",
        "                   item_tfms = Resize(128)) #사이즈 통일\n",
        "\n",
        "#typetools에는 학습을 위한 기본 조건이 들어간다. (공부법)"
      ],
      "execution_count": 20,
      "outputs": []
    },
    {
      "cell_type": "code",
      "metadata": {
        "id": "N9o1NyDfF1pk"
      },
      "source": [
        "#공부법에 실제 데이터를 적용한다\n",
        "#예) 50분 공부하고 10분 쉬고 암기로 공부하는 방법을 -> 영어단어에 적용한다.\n",
        "\n",
        "dls = typetools.dataloaders(path) #공부방법.dataloaders(공부과목)"
      ],
      "execution_count": 21,
      "outputs": []
    },
    {
      "cell_type": "code",
      "metadata": {
        "id": "rbgilH-PGUbB"
      },
      "source": [
        "#검증 데이터의 값 출력해서 확인하기\n",
        "dls.valid.show_batch(max_n =8  ,nrows =2  ) #n개의 값을 n개의 줄에 나누어 출력한다.\n"
      ],
      "execution_count": null,
      "outputs": []
    },
    {
      "cell_type": "code",
      "metadata": {
        "id": "-ebKJ1EjGrNb"
      },
      "source": [
        "# 데이터 증강 1\n",
        "#이미지 찌그러뜨리기\n",
        "#이미지를 변형한 다른 이미지를 이용하여 학습한다면 이미지가 어떤 종류라는걸 나타내는데에 관여하는 특징을 좀 더 잘 파악할 수 있다.\n",
        "\n",
        "typetools = typetools.new(item_tfms=Resize(128,ResizeMethod.Squish)) #Squish 찌그러뜨리다\n",
        "dls = typetools.dataloaders(path)\n",
        "dls.train.show_batch(max_n = 8  ,nrows = 2  )"
      ],
      "execution_count": null,
      "outputs": []
    },
    {
      "cell_type": "code",
      "metadata": {
        "id": "DnBTGYvkICt8"
      },
      "source": [
        "# 데이터 증강 2\n",
        "#이미지 빈칸 채우기\n",
        "typetools = typetools.new(item_tfms=Resize(128,ResizeMethod.Pad,pad_mode='zeros')) #빈칸을 검은색 zeros로 채움\n",
        "dls = typetools.dataloaders(path)\n",
        "dls.train.show_batch(max_n = 8 ,nrows = 2 )"
      ],
      "execution_count": null,
      "outputs": []
    },
    {
      "cell_type": "markdown",
      "metadata": {
        "id": "v_jE8NCZIUIO"
      },
      "source": [
        "### 이미지 영역 랜덤 설정하기\n",
        "\n",
        "- 위에서 이미지를 찌그러뜨리거나 빈칸으로 채우는것은\n",
        "- 학습하는데 있어 이미지를 왜곡하거나 필요없는 정보를 추가하는 문제가 생길 수 있다.\n",
        "- 이에 대한 해결 방법으로\n",
        "- 이미지를 바라보는 시점을 랜덤으로 설정한 후 학습하는 방법이 있다.\n",
        "- 다만 그 전에 찌그러뜨리기 -> 빈칸 처리된 사진이 아니라 원본을 다시 불러오는 작업이 필요하다."
      ]
    },
    {
      "cell_type": "code",
      "metadata": {
        "id": "j7uyM7M0KL_C"
      },
      "source": [
        "#데이터 증강 3\n",
        "typetools = typetools.new(item_tfms=RandomResizedCrop(128,min_scale=0.5)) # 128 크기에서 영역의 랜덤 이미지를 얼마나 지정할지 설정 min_scale 바꿔도 됨\n",
        "dls = typetools.dataloaders(path)\n",
        "dls.train.show_batch(max_n = 8, nrows=1, unique=True)  #유니크값 동일 이미지에 대한 영역 정보"
      ],
      "execution_count": null,
      "outputs": []
    },
    {
      "cell_type": "markdown",
      "metadata": {
        "id": "99BG1bbLK5k9"
      },
      "source": [
        "### 이런 기법을 데이터 증강이라고 한다!\n",
        "\n",
        "* 데이터 증강이란 입력 데이터를 임의로 변형해 새로운 데이터를 생성하는 기법을 의미한다.\n",
        "* 회전, 뒤집기, 원근 뒤틀기, 명도 바꾸기, 채도 바꾸기 등이 존재하며\n",
        "* 변형된 결과는 다양한 이미지를 만들지만 원본 데이터 자체의 이미를 바꿔서는 안된다.\n",
        "* 데이터 증강을 사용하면 데이터에서 데이터의 종류를 결정짓는 특징을 좀 더 잘 추출할 수 있고\n",
        "* 더 나아가 적은 양의 데이터로도 학습이 가능하다."
      ]
    },
    {
      "cell_type": "code",
      "metadata": {
        "id": "3bgZDJ1aLOGb"
      },
      "source": [
        "#데이터 증강 4\n",
        "typetools = typetools.new(item_tfms=Resize(128),batch_tfms=aug_transforms(mult=2.5)) # mult 5이상이면 작동 안됨\n",
        "dls = typetools.dataloaders(path)\n",
        "#dls.train.show_batch(max_n = 8, nrows=1, unique=True)  #유니크값 동일 이미지에 대한 영역 정보\n",
        "dls.train.show_batch(max_n = 8, nrows=1, unique=False)"
      ],
      "execution_count": null,
      "outputs": []
    },
    {
      "cell_type": "markdown",
      "metadata": {
        "id": "mVeFbSZEMAfY"
      },
      "source": [
        "### AI 모델 학습 및 예측\n",
        "\n",
        "* 자 이제 데이터 전처리를 바탕으로 AI 학습을 해보자\n",
        "* FastAi는 복잡한 내용을 입력하지 않더라도 간단하게 학습 방법, AI모델 알고리즘, 학습 과정을 보여줄 방법을 설정하면 모델 학습이 가능하다.\n",
        "* 모델 학습을 진행해보자.\n",
        "* FastAi 모델 학습에 대한 안내 https://fastai1.fast.ai/vision.learner.html\n",
        "* learn.fine_tune에 대한 안내 https://docs.fast.ai/callback.schedule.html#Learner.fine_tune"
      ]
    },
    {
      "cell_type": "code",
      "metadata": {
        "id": "RW3S58ZcMOrl"
      },
      "source": [
        "# 딥러닝 이미지 AI 모델인 cnn중 resnet18을 사용하여 학습할 때마다 학습 오차를 보여주도록 learn 개체를 생성하고\n",
        "# 학습을 진행한다.\n",
        "# CNN (컨볼루션 뉴럴 네트워크, 이미지 분류 딥러닝 모델 중 하나)\n",
        "# CNN을 활용하여 다양한 이미지 데이터용 딥러닝 모델이 만들어졌으며 FastAI에서 제공하는 CNN은\n",
        "# 다음과 같다\n",
        "# resnet18, resnet34, resnet50, resnet101, resnet152\n",
        "# squeezenet1_0, squeezenet1_1\n",
        "# densenet121, densenet169, densenet201, densenet161\n",
        "# vgg16_bn, vgg19_bn\n",
        "# alexnet\n",
        "\n",
        "\n",
        "learn = vision_learner(dls,resnet18,metrics=error_rate) #이미지 식별 딥러닝 모델의 이름을 입력하기\n",
        "learn.fine_tune(4)"
      ],
      "execution_count": null,
      "outputs": []
    },
    {
      "cell_type": "code",
      "metadata": {
        "id": "Il30ANJAMeDK"
      },
      "source": [
        "#분류 학습의 결과를 시각적으로 보여주는 오차행렬을 생성한 후 보여준다.\n",
        "interp = ClassificationInterpretation.from_learner(learn) #괄호 안에 모델 이름 집어넣기\n",
        "interp.plot_confusion_matrix()"
      ],
      "execution_count": null,
      "outputs": []
    },
    {
      "cell_type": "code",
      "metadata": {
        "id": "R1SBH24cM4o-"
      },
      "source": [
        "# 값을 다 더하면 그 값의 크기는?\n",
        "len(dls.valid.items)"
      ],
      "execution_count": null,
      "outputs": []
    },
    {
      "cell_type": "code",
      "metadata": {
        "id": "RWM1VXmfM9y9"
      },
      "source": [
        "# 학습하는 데 사용한 데이터의 크기는?\n",
        "len(dls.train.items)"
      ],
      "execution_count": null,
      "outputs": []
    },
    {
      "cell_type": "code",
      "metadata": {
        "id": "xK_IEiELNCTp"
      },
      "source": [
        "#가장 오차가 큰 값 20개를 보여줌\n",
        "interp.plot_top_losses(20, nrows=5) #n개의 값을 n개의 줄에 표시하기\n",
        "\n",
        "#예측값/실제값/오차/가능성"
      ],
      "execution_count": null,
      "outputs": []
    },
    {
      "cell_type": "code",
      "metadata": {
        "id": "5IdXzYcTNXfw"
      },
      "source": [
        "#데이터 정리 코드 (선택후 삭제 수정 코드 실행)\n",
        "cleaner = ImageClassifierCleaner(learn)\n",
        "cleaner"
      ],
      "execution_count": null,
      "outputs": []
    },
    {
      "cell_type": "code",
      "metadata": {
        "id": "n3Mu6bemNZpR"
      },
      "source": [
        "#위에서 작업 후 반드시 이 코드부터 쭉 4개 실행해주기\n",
        "cleaner.delete()"
      ],
      "execution_count": null,
      "outputs": []
    },
    {
      "cell_type": "code",
      "metadata": {
        "id": "dEm-4CDQNprx"
      },
      "source": [
        "for idx in cleaner.delete() :\n",
        "  cleaner.fns[idx].unlink()"
      ],
      "execution_count": null,
      "outputs": []
    },
    {
      "cell_type": "code",
      "metadata": {
        "id": "WxppH-LZNqIT"
      },
      "source": [
        "cleaner.change()"
      ],
      "execution_count": null,
      "outputs": []
    },
    {
      "cell_type": "code",
      "metadata": {
        "id": "t-rV_sZ6Ns8y"
      },
      "source": [
        "for idx, cat in cleaner.change() :\n",
        "  shutil.move(str(cleaner.fns[idx]), path/cat)"
      ],
      "execution_count": null,
      "outputs": []
    },
    {
      "cell_type": "markdown",
      "metadata": {
        "id": "oKbUEytqN1yu"
      },
      "source": [
        "### 모델 사용하기\n",
        "\n",
        "* 위와 같은 과정을 거쳐서 만든 모델을 실제 사용해봅시다\n",
        "* AI 모델을 사용하는 이유는 학습을 통해서 만든 모델이 학습하지 않은 상황에서도 잘 적용하기 위해서입니다.\n",
        "* 만든 모델을 파일로 만들고 그 파일을 불러와 학습하지 않은 이미지를 잘 분류하는지 확인해봅시다."
      ]
    },
    {
      "cell_type": "code",
      "metadata": {
        "id": "n9MpDAY0OIM5"
      },
      "source": [
        "#학습한 모델의 정보를 파일로 생성하기 확장자 .pkl\n",
        "learn.export('/content/drive/MyDrive/홍천고 이미지 분류/.pkl')"
      ],
      "execution_count": 28,
      "outputs": []
    },
    {
      "cell_type": "code",
      "metadata": {
        "id": "iqpqQcI2Ogn5"
      },
      "source": [
        "#파일을 통해서 모델 불러오기\n",
        "\n",
        "learn_inf = load_learner('')"
      ],
      "execution_count": null,
      "outputs": []
    },
    {
      "cell_type": "code",
      "metadata": {
        "id": "OIKytGtKOryk"
      },
      "source": [
        "# 모델 정보 확인하기\n",
        "\n",
        "learn_inf.dls.vocab"
      ],
      "execution_count": null,
      "outputs": []
    },
    {
      "cell_type": "markdown",
      "metadata": {
        "id": "awLFT1xEOzD7"
      },
      "source": [
        "### 불러온 모델을 간단한 프로그램으로 만들기\n",
        "\n",
        "- 파일을 업로드하고\n",
        "- 그 파일을 보여준 후 이 파일이 어떤 종류인지 예측하는 형태의 간단한 앱을 만들어봅시다."
      ]
    },
    {
      "cell_type": "code",
      "metadata": {
        "id": "7uU_az1IO5L6"
      },
      "source": [
        "btn_upload = widgets.FileUpload(multiple=True)\n",
        "btn_upload"
      ],
      "execution_count": null,
      "outputs": []
    },
    {
      "cell_type": "code",
      "metadata": {
        "id": "mbqm-mg3O7c8"
      },
      "source": [
        "#불러온 이미지 중 가장 최신(끝에서 첫 번째)을 img에 저장함\n",
        "img = PILImage.create(btn_upload.data[-1])"
      ],
      "execution_count": 35,
      "outputs": []
    },
    {
      "cell_type": "code",
      "metadata": {
        "id": "Q9NFpHUfPK5U"
      },
      "source": [
        "# 이미지를 출력하는 기능을 담당하는 out_pl\n",
        "out_pl = widgets.Output()"
      ],
      "execution_count": 36,
      "outputs": []
    },
    {
      "cell_type": "code",
      "metadata": {
        "id": "JbVnEDrjPTn8"
      },
      "source": [
        "#초기화 후 기능을 이용하여 이미지를 표시함\n",
        "out_pl.clear_output()\n",
        "with out_pl : display(img.to_thumb(128,128))\n",
        "out_pl"
      ],
      "execution_count": null,
      "outputs": []
    },
    {
      "cell_type": "code",
      "metadata": {
        "id": "bUm8tHS_PZoU"
      },
      "source": [
        "#pred 예측 결과, pred_idx 예측 결과의 위치 probs 가능성\n",
        "pred, pred_idx, probs = learn_inf.predict(img)"
      ],
      "execution_count": null,
      "outputs": []
    },
    {
      "cell_type": "code",
      "metadata": {
        "id": "4q1YG1mAPkyg"
      },
      "source": [
        "# 모델 결과값을 출력하는 부분을 생성\n",
        "lbl_pred = widgets.Label()\n",
        "lbl_pred.value = f'Predicti on: {pred}, Probability : {probs[pred_idx]:.04f}'\n",
        "lbl_pred"
      ],
      "execution_count": null,
      "outputs": []
    },
    {
      "cell_type": "code",
      "metadata": {
        "id": "yyZZLeGaP3th"
      },
      "source": [
        "#실행 버튼\n",
        "btn_run = widgets.Button(description = '실행')\n",
        "btn_run"
      ],
      "execution_count": null,
      "outputs": []
    },
    {
      "cell_type": "code",
      "metadata": {
        "id": "UkkxAMlHP5zB"
      },
      "source": [
        "#위에서 만든 기능을 합쳐서 올라온 이미지를 예측하고 결과를 출력하게 하는 함수 정의 및 버튼에 함수 연결\n",
        "def on_click_classify(change):\n",
        "  img = PILImage.create(btn_upload.data[-1])\n",
        "  out_pl.clear_output()\n",
        "  with out_pl: display(img.to_thumb(128,128))\n",
        "  pred,pred_idx,probs=learn_inf.predict(img)\n",
        "  lbl_pred.value =f'Predction: {pred}; Probability: {probs[pred_idx]:.04f}'\n",
        "\n",
        "btn_run.on_click(on_click_classify)"
      ],
      "execution_count": 41,
      "outputs": []
    },
    {
      "cell_type": "code",
      "metadata": {
        "id": "A0u-riUuQHeB"
      },
      "source": [
        "VBox([widgets.Label('이미지를 분류해보세요!! 그리즐리,판다,북극곰'),btn_upload,btn_run,out_pl,lbl_pred])"
      ],
      "execution_count": null,
      "outputs": []
    },
    {
      "cell_type": "code",
      "source": [
        "btn_upload = widgets.FileUpload(multiple=True)\n",
        "btn_upload"
      ],
      "metadata": {
        "id": "lWI5NwH4Z5We"
      },
      "execution_count": null,
      "outputs": []
    },
    {
      "cell_type": "code",
      "source": [
        "\n",
        "\n",
        "#불러온 이미지 중 가장 최신(끝에서 첫 번째)을 img에 저장함\n",
        "img = PILImage.create(btn_upload.data[-1])\n",
        "\n",
        "# 이미지를 출력하는 기능을 담당하는 out_pl\n",
        "out_pl = widgets.Output()\n",
        "\n",
        "#pred 예측 결과, pred_idx 예측 결과의 위치 probs 가능성\n",
        "pred, pred_idx, probs = learn_inf.predict(img)\n",
        "\n",
        "# 모델 결과값을 출력하는 부분을 생성\n",
        "lbl_pred = widgets.Label()\n",
        "lbl_pred.value = f'Predicti on: {pred}, Probability : {probs[pred_idx]:.04f}'\n",
        "lbl_pred\n",
        "\n",
        "#실행 버튼\n",
        "btn_run = widgets.Button(description = '실행')\n",
        "btn_run\n",
        "\n",
        "#위에서 만든 기능을 합쳐서 올라온 이미지를 예측하고 결과를 출력하게 하는 함수 정의 및 버튼에 함수 연결\n",
        "def on_click_classify(change):\n",
        "  img = PILImage.create(btn_upload.data[-1])\n",
        "  out_pl.clear_output()\n",
        "  with out_pl: display(img.to_thumb(128,128))\n",
        "  pred,pred_idx,probs=learn_inf.predict(img)\n",
        "  lbl_pred.value =f'Predction: {pred}; Probability: {probs[pred_idx]:.04f}'\n",
        "\n",
        "btn_run.on_click(on_click_classify)\n",
        "\n",
        "VBox([widgets.Label('이미지를 분류해보세요!! 그리즐리,판다,북극곰'),btn_upload,btn_run,out_pl,lbl_pred])\n",
        "\n"
      ],
      "metadata": {
        "id": "s3PY_9Yf5Due"
      },
      "execution_count": null,
      "outputs": []
    }
  ]
}